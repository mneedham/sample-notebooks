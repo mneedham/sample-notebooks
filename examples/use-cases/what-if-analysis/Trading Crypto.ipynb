{
 "cells": [
  {
   "cell_type": "markdown",
   "id": "cc41b0b4",
   "metadata": {},
   "source": [
    "# Trading Crypto\n",
    "\n",
    "In this notebook we're going to do a what-if analysis based on some trades of Cryptocurrencies. We're going to work out the valuation of our portfolio based on doing some trades and then re-running that valuation as if we hadn't made those trades"
   ]
  },
  {
   "cell_type": "code",
   "execution_count": 12,
   "id": "2647a3ae",
   "metadata": {},
   "outputs": [],
   "source": [
    "# Import LUSID\n",
    "import lusid\n",
    "import os\n",
    "from lusidjam import RefreshingToken\n",
    "import pandas as pd\n",
    "import pytz\n",
    "from datetime import datetime, timedelta\n",
    "from dateutil.parser import parse"
   ]
  },
  {
   "cell_type": "code",
   "execution_count": 6,
   "id": "5a254ee5",
   "metadata": {},
   "outputs": [],
   "source": [
    "# Authenticate our user and create our API client\n",
    "secrets_path = os.getenv(\"FBN_SECRETS_PATH\")\n",
    "\n",
    "api_factory = lusid.utilities.ApiClientFactory(\n",
    "    token=RefreshingToken(),\n",
    "    api_secrets_filename = secrets_path,\n",
    "    app_name=\"LusidJupyterNotebook\")"
   ]
  },
  {
   "cell_type": "code",
   "execution_count": 8,
   "id": "bb21fed7",
   "metadata": {},
   "outputs": [],
   "source": [
    "transaction_portfolios_api = api_factory.build(lusid.api.TransactionPortfoliosApi)\n",
    "instruments_api = api_factory.build(lusid.api.InstrumentsApi)\n",
    "quotes_api = api_factory.build(lusid.api.QuotesApi)\n",
    "aggregation_api = api_factory.build(lusid.api.AggregationApi)\n",
    "derived_api = api_factory.build(lusid.api.DerivedTransactionPortfoliosApi)"
   ]
  },
  {
   "cell_type": "markdown",
   "id": "af67f687",
   "metadata": {},
   "source": [
    "## Instruments Master\n",
    "\n",
    "We've got some Cryptocurrency instruments in a CSV file. Let's import those into LUSID:"
   ]
  },
  {
   "cell_type": "code",
   "execution_count": 9,
   "id": "f20f278c",
   "metadata": {},
   "outputs": [
    {
     "data": {
      "text/html": [
       "<div>\n",
       "<style scoped>\n",
       "    .dataframe tbody tr th:only-of-type {\n",
       "        vertical-align: middle;\n",
       "    }\n",
       "\n",
       "    .dataframe tbody tr th {\n",
       "        vertical-align: top;\n",
       "    }\n",
       "\n",
       "    .dataframe thead th {\n",
       "        text-align: right;\n",
       "    }\n",
       "</style>\n",
       "<table border=\"1\" class=\"dataframe\">\n",
       "  <thead>\n",
       "    <tr style=\"text-align: right;\">\n",
       "      <th></th>\n",
       "      <th>instrument_name</th>\n",
       "      <th>id</th>\n",
       "      <th>currency</th>\n",
       "      <th>asset_class</th>\n",
       "    </tr>\n",
       "  </thead>\n",
       "  <tbody>\n",
       "    <tr>\n",
       "      <th>0</th>\n",
       "      <td>Dogecoin</td>\n",
       "      <td>DOGE</td>\n",
       "      <td>USD</td>\n",
       "      <td>crypto</td>\n",
       "    </tr>\n",
       "    <tr>\n",
       "      <th>1</th>\n",
       "      <td>Bitcoin</td>\n",
       "      <td>BTC</td>\n",
       "      <td>USD</td>\n",
       "      <td>crypto</td>\n",
       "    </tr>\n",
       "    <tr>\n",
       "      <th>2</th>\n",
       "      <td>XRP</td>\n",
       "      <td>XRP</td>\n",
       "      <td>USD</td>\n",
       "      <td>crypto</td>\n",
       "    </tr>\n",
       "  </tbody>\n",
       "</table>\n",
       "</div>"
      ],
      "text/plain": [
       "  instrument_name    id currency asset_class\n",
       "0        Dogecoin  DOGE      USD      crypto\n",
       "1         Bitcoin   BTC      USD      crypto\n",
       "2             XRP   XRP      USD      crypto"
      ]
     },
     "execution_count": 9,
     "metadata": {},
     "output_type": "execute_result"
    }
   ],
   "source": [
    "instruments_file = \"data/instruments.csv\"\n",
    "instruments = pd.read_csv(instruments_file)\n",
    "instruments"
   ]
  },
  {
   "cell_type": "code",
   "execution_count": null,
   "id": "bc4e7550",
   "metadata": {},
   "outputs": [],
   "source": [
    "definitions = {}\n",
    "for _, instrument in instruments.iterrows():\n",
    "    identifiers = {\n",
    "        \"ClientInternal\": lusid.models.InstrumentIdValue(value=instrument[\"id\"])\n",
    "    }\n",
    "    definitions[instrument['instrument_name']] = lusid.models.InstrumentDefinition(\n",
    "        name=instrument['instrument_name'], identifiers=identifiers)\n",
    "\n",
    "instruments_api.upsert_instruments(request_body=definitions)"
   ]
  },
  {
   "cell_type": "markdown",
   "id": "85e331a6",
   "metadata": {},
   "source": [
    "## Create Portfolio\n",
    "\n",
    "Next we'll create a portfolio:"
   ]
  },
  {
   "cell_type": "code",
   "execution_count": 37,
   "id": "fe396d8b",
   "metadata": {},
   "outputs": [
    {
     "name": "stdout",
     "output_type": "stream",
     "text": [
      "Portfolio Code Developer-WhatIf-Tutorial-2021-05-06-11_01_58\n"
     ]
    }
   ],
   "source": [
    "now = datetime.now().strftime('%Y-%m-%d-%H_%M_%S')\n",
    "scope = portfolio_code = f\"Developer-WhatIf-Tutorial-{now}\"\n",
    "print(\"Portfolio Code\", portfolio_code)\n",
    "\n",
    "created_date = datetime(year=2021, month=1, day=1, tzinfo=pytz.UTC)\n",
    "response = transaction_portfolios_api.create_portfolio(\n",
    "    scope=scope,\n",
    "    create_transaction_portfolio_request=lusid.models.CreateTransactionPortfolioRequest(\n",
    "        display_name=\"Developer What If Tutorial\",\n",
    "        code=portfolio_code,\n",
    "        created=created_date,\n",
    "        base_currency=\"USD\"))"
   ]
  },
  {
   "cell_type": "markdown",
   "id": "6f924be9",
   "metadata": {},
   "source": [
    "## Transactions\n",
    "\n",
    "And now let's load some transactions into that portfolio:"
   ]
  },
  {
   "cell_type": "code",
   "execution_count": 23,
   "id": "df3f997c",
   "metadata": {},
   "outputs": [
    {
     "data": {
      "text/html": [
       "<div>\n",
       "<style scoped>\n",
       "    .dataframe tbody tr th:only-of-type {\n",
       "        vertical-align: middle;\n",
       "    }\n",
       "\n",
       "    .dataframe tbody tr th {\n",
       "        vertical-align: top;\n",
       "    }\n",
       "\n",
       "    .dataframe thead th {\n",
       "        text-align: right;\n",
       "    }\n",
       "</style>\n",
       "<table border=\"1\" class=\"dataframe\">\n",
       "  <thead>\n",
       "    <tr style=\"text-align: right;\">\n",
       "      <th></th>\n",
       "      <th>txn_id</th>\n",
       "      <th>trade_date</th>\n",
       "      <th>transaction_type</th>\n",
       "      <th>instrument_desc</th>\n",
       "      <th>instrument_id</th>\n",
       "      <th>currency</th>\n",
       "      <th>quantity</th>\n",
       "      <th>price</th>\n",
       "      <th>net_money</th>\n",
       "    </tr>\n",
       "  </thead>\n",
       "  <tbody>\n",
       "    <tr>\n",
       "      <th>0</th>\n",
       "      <td>tx_00001</td>\n",
       "      <td>2021-01-01</td>\n",
       "      <td>FundsIn</td>\n",
       "      <td>CASH_USD</td>\n",
       "      <td>cash</td>\n",
       "      <td>USD</td>\n",
       "      <td>1000</td>\n",
       "      <td>1.000000</td>\n",
       "      <td>1000.000000</td>\n",
       "    </tr>\n",
       "    <tr>\n",
       "      <th>1</th>\n",
       "      <td>tx_00002</td>\n",
       "      <td>2021-01-02</td>\n",
       "      <td>Buy</td>\n",
       "      <td>Dogecoin</td>\n",
       "      <td>DOGE</td>\n",
       "      <td>USD</td>\n",
       "      <td>100000</td>\n",
       "      <td>0.005405</td>\n",
       "      <td>540.480280</td>\n",
       "    </tr>\n",
       "    <tr>\n",
       "      <th>2</th>\n",
       "      <td>tx_00003</td>\n",
       "      <td>2021-02-02</td>\n",
       "      <td>Sell</td>\n",
       "      <td>Dogecoin</td>\n",
       "      <td>DOGE</td>\n",
       "      <td>USD</td>\n",
       "      <td>50000</td>\n",
       "      <td>0.031479</td>\n",
       "      <td>1573.959385</td>\n",
       "    </tr>\n",
       "    <tr>\n",
       "      <th>3</th>\n",
       "      <td>tx_00004</td>\n",
       "      <td>2021-02-02</td>\n",
       "      <td>Buy</td>\n",
       "      <td>XRP</td>\n",
       "      <td>XRP</td>\n",
       "      <td>USD</td>\n",
       "      <td>4000</td>\n",
       "      <td>0.368082</td>\n",
       "      <td>1472.328220</td>\n",
       "    </tr>\n",
       "  </tbody>\n",
       "</table>\n",
       "</div>"
      ],
      "text/plain": [
       "     txn_id  trade_date transaction_type instrument_desc instrument_id  \\\n",
       "0  tx_00001  2021-01-01          FundsIn        CASH_USD          cash   \n",
       "1  tx_00002  2021-01-02              Buy        Dogecoin          DOGE   \n",
       "2  tx_00003  2021-02-02             Sell        Dogecoin          DOGE   \n",
       "3  tx_00004  2021-02-02              Buy             XRP           XRP   \n",
       "\n",
       "  currency  quantity     price    net_money  \n",
       "0      USD      1000  1.000000  1000.000000  \n",
       "1      USD    100000  0.005405   540.480280  \n",
       "2      USD     50000  0.031479  1573.959385  \n",
       "3      USD      4000  0.368082  1472.328220  "
      ]
     },
     "execution_count": 23,
     "metadata": {},
     "output_type": "execute_result"
    }
   ],
   "source": [
    "transactions_file = \"data/transactions.csv\"\n",
    "transactions = pd.read_csv(transactions_file)\n",
    "transactions"
   ]
  },
  {
   "cell_type": "code",
   "execution_count": 38,
   "id": "1b57c446",
   "metadata": {},
   "outputs": [],
   "source": [
    "transactions_request = []\n",
    "for row, txn in transactions.iterrows():\n",
    "    if txn[\"instrument_id\"] == \"cash\":\n",
    "        instrument_identifier = {\"Instrument/default/Currency\": txn[\"currency\"]}\n",
    "    else:\n",
    "        instrument_identifier = {\"Instrument/default/ClientInternal\": txn[\"instrument_id\"]}\n",
    "\n",
    "    transactions_request.append(\n",
    "        lusid.models.TransactionRequest(\n",
    "            transaction_id=txn[\"txn_id\"],\n",
    "            type=txn[\"transaction_type\"],\n",
    "            instrument_identifiers=instrument_identifier,\n",
    "            transaction_date=pytz.UTC.localize(parse(txn[\"trade_date\"])),\n",
    "            settlement_date=pytz.UTC.localize(parse(txn[\"trade_date\"])),\n",
    "            units=txn[\"quantity\"],\n",
    "            transaction_price=lusid.models.TransactionPrice(price=txn[\"price\"], type=\"Price\"),\n",
    "            total_consideration=lusid.models.CurrencyAndAmount(\n",
    "                amount=txn[\"net_money\"], currency=txn[\"currency\"])))\n",
    "\n",
    "response = transaction_portfolios_api.upsert_transactions(\n",
    "    scope=scope, code=portfolio_code, transaction_request=transactions_request)"
   ]
  },
  {
   "cell_type": "markdown",
   "id": "5cb44093",
   "metadata": {},
   "source": [
    "## Quotes / Market Data\n",
    "\n",
    "To run a valuation of a portfolio, we'll need to load in some quotes or market data. The CSV file described below contains the end of day prices for Dogecoin and XRP on 5th May 2021:"
   ]
  },
  {
   "cell_type": "code",
   "execution_count": 25,
   "id": "41373205",
   "metadata": {},
   "outputs": [
    {
     "data": {
      "text/html": [
       "<div>\n",
       "<style scoped>\n",
       "    .dataframe tbody tr th:only-of-type {\n",
       "        vertical-align: middle;\n",
       "    }\n",
       "\n",
       "    .dataframe tbody tr th {\n",
       "        vertical-align: top;\n",
       "    }\n",
       "\n",
       "    .dataframe thead th {\n",
       "        text-align: right;\n",
       "    }\n",
       "</style>\n",
       "<table border=\"1\" class=\"dataframe\">\n",
       "  <thead>\n",
       "    <tr style=\"text-align: right;\">\n",
       "      <th></th>\n",
       "      <th>instrument_name</th>\n",
       "      <th>id</th>\n",
       "      <th>date</th>\n",
       "      <th>price</th>\n",
       "    </tr>\n",
       "  </thead>\n",
       "  <tbody>\n",
       "    <tr>\n",
       "      <th>0</th>\n",
       "      <td>Dogecoin</td>\n",
       "      <td>DOGE</td>\n",
       "      <td>2021-05-05</td>\n",
       "      <td>0.542511</td>\n",
       "    </tr>\n",
       "    <tr>\n",
       "      <th>1</th>\n",
       "      <td>XRP</td>\n",
       "      <td>XRP</td>\n",
       "      <td>2021-05-05</td>\n",
       "      <td>1.590046</td>\n",
       "    </tr>\n",
       "  </tbody>\n",
       "</table>\n",
       "</div>"
      ],
      "text/plain": [
       "  instrument_name    id        date     price\n",
       "0        Dogecoin  DOGE  2021-05-05  0.542511\n",
       "1             XRP   XRP  2021-05-05  1.590046"
      ]
     },
     "execution_count": 25,
     "metadata": {},
     "output_type": "execute_result"
    }
   ],
   "source": [
    "quotes_file = \"data/quotes.csv\"\n",
    "quotes = pd.read_csv(quotes_file)\n",
    "quotes"
   ]
  },
  {
   "cell_type": "markdown",
   "id": "06ffc58c",
   "metadata": {},
   "source": [
    "We're going to load these into LUSID, but first we need to lookup the LUSID Instrument ID for each instrument:"
   ]
  },
  {
   "cell_type": "code",
   "execution_count": 49,
   "id": "872a3adc",
   "metadata": {},
   "outputs": [
    {
     "data": {
      "text/html": [
       "<div>\n",
       "<style scoped>\n",
       "    .dataframe tbody tr th:only-of-type {\n",
       "        vertical-align: middle;\n",
       "    }\n",
       "\n",
       "    .dataframe tbody tr th {\n",
       "        vertical-align: top;\n",
       "    }\n",
       "\n",
       "    .dataframe thead th {\n",
       "        text-align: right;\n",
       "    }\n",
       "</style>\n",
       "<table border=\"1\" class=\"dataframe\">\n",
       "  <thead>\n",
       "    <tr style=\"text-align: right;\">\n",
       "      <th></th>\n",
       "      <th>instrument_name</th>\n",
       "      <th>id</th>\n",
       "      <th>date</th>\n",
       "      <th>price</th>\n",
       "      <th>luid</th>\n",
       "    </tr>\n",
       "  </thead>\n",
       "  <tbody>\n",
       "    <tr>\n",
       "      <th>0</th>\n",
       "      <td>Dogecoin</td>\n",
       "      <td>DOGE</td>\n",
       "      <td>2021-05-05</td>\n",
       "      <td>0.542511</td>\n",
       "      <td>LUID_5H4VJ0EE</td>\n",
       "    </tr>\n",
       "    <tr>\n",
       "      <th>1</th>\n",
       "      <td>XRP</td>\n",
       "      <td>XRP</td>\n",
       "      <td>2021-05-05</td>\n",
       "      <td>1.590046</td>\n",
       "      <td>LUID_HNFJOTFE</td>\n",
       "    </tr>\n",
       "  </tbody>\n",
       "</table>\n",
       "</div>"
      ],
      "text/plain": [
       "  instrument_name    id        date     price           luid\n",
       "0        Dogecoin  DOGE  2021-05-05  0.542511  LUID_5H4VJ0EE\n",
       "1             XRP   XRP  2021-05-05  1.590046  LUID_HNFJOTFE"
      ]
     },
     "execution_count": 49,
     "metadata": {},
     "output_type": "execute_result"
    }
   ],
   "source": [
    "response = instruments_api.get_instruments(\n",
    "    identifier_type='ClientInternal',\n",
    "    request_body=quotes[\"id\"].values.tolist())\n",
    "instruments = pd.DataFrame([{\n",
    "    \"id\": instrument.identifiers[\"ClientInternal\"],\n",
    "    \"luid\": instrument.lusid_instrument_id}\n",
    "    for _, instrument in response.values.items()\n",
    "])\n",
    "quotes_with_luid = pd.merge(quotes, instruments, on=[\"id\"])\n",
    "quotes_with_luid"
   ]
  },
  {
   "cell_type": "markdown",
   "id": "b7e2e387",
   "metadata": {},
   "source": [
    "The default recipe that we'll use in the valuation section assumes that quotes are loaded using a LUSID Instrument ID, which we can do using the following code:"
   ]
  },
  {
   "cell_type": "code",
   "execution_count": 39,
   "id": "98783073",
   "metadata": {},
   "outputs": [],
   "source": [
    "quotes_request = {\n",
    "    f\"quote_request_{quote['instrument_name']}_{quote['date']}\": lusid.models.UpsertQuoteRequest(\n",
    "        quote_id=lusid.models.QuoteId(\n",
    "            quote_series_id=lusid.models.QuoteSeriesId(\n",
    "                provider=\"Lusid\",\n",
    "                instrument_id=quote[\"luid\"],\n",
    "                instrument_id_type=\"LusidInstrumentId\",\n",
    "                quote_type=\"Price\",\n",
    "                field=\"mid\",\n",
    "            ),\n",
    "            effective_at=pytz.UTC.localize(parse(quote['date'])).isoformat(),\n",
    "        ),\n",
    "        metric_value=lusid.models.MetricValue(value=quote['price'], unit=\"USD\"),\n",
    "    )\n",
    "    for _, quote in quotes_with_luid.iterrows()\n",
    "}\n",
    "\n",
    "response = quotes_api.upsert_quotes(scope=scope, request_body=quotes_request)"
   ]
  },
  {
   "cell_type": "markdown",
   "id": "2acbb20c",
   "metadata": {},
   "source": [
    "## Valuation\n",
    "\n",
    "\n",
    "Now let's run a valuation, which will compute the value of our holdings using quotes/market data on a specified date. "
   ]
  },
  {
   "cell_type": "code",
   "execution_count": 28,
   "id": "47febeed",
   "metadata": {},
   "outputs": [],
   "source": [
    "def compute_valuation_with_default_recipe(portfolio_code, from_date, to_date, metrics, group_by):\n",
    "    return aggregation_api.get_valuation(\n",
    "        valuation_request=lusid.models.ValuationRequest(\n",
    "            recipe_id=lusid.models.ResourceId(scope=scope, code=\"default\"),\n",
    "            metrics=[lusid.models.AggregateSpec(key, op) for key, op in metrics],\n",
    "            group_by=group_by,\n",
    "            valuation_schedule=lusid.models.ValuationSchedule(effective_from=from_date, effective_at=to_date),\n",
    "            portfolio_entity_ids=[lusid.models.PortfolioEntityId(\n",
    "                scope=scope,\n",
    "                code=portfolio_code,\n",
    "                portfolio_entity_type=\"SinglePortfolio\"\n",
    "            )])).data"
   ]
  },
  {
   "cell_type": "markdown",
   "id": "cffb7cc0",
   "metadata": {},
   "source": [
    "We've only loaded quotes for 5th May 2021, so we'll use that as our effective date:"
   ]
  },
  {
   "cell_type": "code",
   "execution_count": 30,
   "id": "cc87589c",
   "metadata": {},
   "outputs": [],
   "source": [
    "effective_at = datetime(year=2021, month=5, day=5, tzinfo=pytz.UTC)"
   ]
  },
  {
   "cell_type": "markdown",
   "id": "52277a47",
   "metadata": {},
   "source": [
    "If we'd loaded more quotes we'd be able to track our portfolio's value over time.\n",
    "\n",
    "We can run a valuation that returns the total value of our portfolio using the code below:"
   ]
  },
  {
   "cell_type": "code",
   "execution_count": 40,
   "id": "67162ef9",
   "metadata": {},
   "outputs": [
    {
     "data": {
      "text/html": [
       "<div>\n",
       "<style scoped>\n",
       "    .dataframe tbody tr th:only-of-type {\n",
       "        vertical-align: middle;\n",
       "    }\n",
       "\n",
       "    .dataframe tbody tr th {\n",
       "        vertical-align: top;\n",
       "    }\n",
       "\n",
       "    .dataframe thead th {\n",
       "        text-align: right;\n",
       "    }\n",
       "</style>\n",
       "<table border=\"1\" class=\"dataframe\">\n",
       "  <thead>\n",
       "    <tr style=\"text-align: right;\">\n",
       "      <th></th>\n",
       "      <th>Analytic/default/ValuationDate</th>\n",
       "      <th>Sum(Holding/default/PV)</th>\n",
       "    </tr>\n",
       "  </thead>\n",
       "  <tbody>\n",
       "    <tr>\n",
       "      <th>0</th>\n",
       "      <td>2021-05-05T00:00:00.0000000+00:00</td>\n",
       "      <td>34046.883352</td>\n",
       "    </tr>\n",
       "  </tbody>\n",
       "</table>\n",
       "</div>"
      ],
      "text/plain": [
       "      Analytic/default/ValuationDate  Sum(Holding/default/PV)\n",
       "0  2021-05-05T00:00:00.0000000+00:00             34046.883352"
      ]
     },
     "execution_count": 40,
     "metadata": {},
     "output_type": "execute_result"
    }
   ],
   "source": [
    "response = compute_valuation_with_default_recipe(\n",
    "    portfolio_code,\n",
    "    effective_at,\n",
    "    effective_at,\n",
    "    metrics=[\n",
    "        (\"Analytic/default/ValuationDate\", \"Value\"),\n",
    "        (\"Holding/default/PV\", \"Sum\"),\n",
    "    ],\n",
    "    group_by=[\"Analytic/default/ValuationDate\"]\n",
    ")\n",
    "valuation_all = pd.DataFrame(response)\n",
    "valuation_all"
   ]
  },
  {
   "cell_type": "markdown",
   "id": "70d6d5bb",
   "metadata": {},
   "source": [
    "And if we want to get a breakdown by instrument we can do that as well:"
   ]
  },
  {
   "cell_type": "code",
   "execution_count": 41,
   "id": "03e3c77d",
   "metadata": {},
   "outputs": [
    {
     "data": {
      "text/html": [
       "<div>\n",
       "<style scoped>\n",
       "    .dataframe tbody tr th:only-of-type {\n",
       "        vertical-align: middle;\n",
       "    }\n",
       "\n",
       "    .dataframe tbody tr th {\n",
       "        vertical-align: top;\n",
       "    }\n",
       "\n",
       "    .dataframe thead th {\n",
       "        text-align: right;\n",
       "    }\n",
       "</style>\n",
       "<table border=\"1\" class=\"dataframe\">\n",
       "  <thead>\n",
       "    <tr style=\"text-align: right;\">\n",
       "      <th></th>\n",
       "      <th>Instrument/default/Name</th>\n",
       "      <th>Holding/default/Cost</th>\n",
       "      <th>Sum(Holding/default/Units)</th>\n",
       "      <th>Sum(Holding/default/PV)</th>\n",
       "      <th>Proportion(Holding/default/PV)</th>\n",
       "    </tr>\n",
       "  </thead>\n",
       "  <tbody>\n",
       "    <tr>\n",
       "      <th>0</th>\n",
       "      <td>USD</td>\n",
       "      <td>561.15</td>\n",
       "      <td>561.150885</td>\n",
       "      <td>561.150885</td>\n",
       "      <td>0.016482</td>\n",
       "    </tr>\n",
       "    <tr>\n",
       "      <th>1</th>\n",
       "      <td>Dogecoin</td>\n",
       "      <td>270.24</td>\n",
       "      <td>50000.000000</td>\n",
       "      <td>27125.548335</td>\n",
       "      <td>0.796712</td>\n",
       "    </tr>\n",
       "    <tr>\n",
       "      <th>2</th>\n",
       "      <td>XRP</td>\n",
       "      <td>1472.33</td>\n",
       "      <td>4000.000000</td>\n",
       "      <td>6360.184131</td>\n",
       "      <td>0.186807</td>\n",
       "    </tr>\n",
       "  </tbody>\n",
       "</table>\n",
       "</div>"
      ],
      "text/plain": [
       "  Instrument/default/Name  Holding/default/Cost  Sum(Holding/default/Units)  \\\n",
       "0                     USD                561.15                  561.150885   \n",
       "1                Dogecoin                270.24                50000.000000   \n",
       "2                     XRP               1472.33                 4000.000000   \n",
       "\n",
       "   Sum(Holding/default/PV)  Proportion(Holding/default/PV)  \n",
       "0               561.150885                        0.016482  \n",
       "1             27125.548335                        0.796712  \n",
       "2              6360.184131                        0.186807  "
      ]
     },
     "execution_count": 41,
     "metadata": {},
     "output_type": "execute_result"
    }
   ],
   "source": [
    "effective_at = datetime(year=2021, month=5, day=5, tzinfo=pytz.UTC)\n",
    "response = compute_valuation_with_default_recipe(\n",
    "    portfolio_code,\n",
    "    effective_at,\n",
    "    effective_at,\n",
    "    metrics=[\n",
    "        (\"Instrument/default/Name\", \"Value\"),\n",
    "        (\"Holding/default/Cost\", \"Value\"),\n",
    "        (\"Holding/default/Units\", \"Sum\"),\n",
    "        (\"Holding/default/PV\", \"Sum\"),\n",
    "        (\"Holding/default/PV\", \"Proportion\")\n",
    "    ],\n",
    "    group_by=[\"Instrument/default/Name\"]\n",
    ")\n",
    "valuation = pd.DataFrame(response)\n",
    "valuation"
   ]
  },
  {
   "cell_type": "markdown",
   "id": "ea97460a",
   "metadata": {},
   "source": [
    "## What if analysis\n",
    "\n",
    "Now for the fun stuff! What if we didn't do those transactions on 2nd February 2021, where we sold half of our DOGE and bought XRP with the receipts?\n",
    "\n",
    "We can work this out by following these three steps: \n",
    "\n",
    "* Create a derived portfolio of our initial portfolio\n",
    "* Remove the 2nd February 2021 transactions from the derived portfolio\n",
    "* Run the valuation on the derived portfolio\n",
    "\n",
    "Our initial portfolio will remain untouched, but we'll re-run the valuation on our initial portfolio to make sure"
   ]
  },
  {
   "cell_type": "code",
   "execution_count": 42,
   "id": "8a6266d2",
   "metadata": {},
   "outputs": [],
   "source": [
    "derived_portfolio_code = f\"Developer-WhatIf-Tutorial-Derived-{now}\"\n",
    "\n",
    "derived_request = lusid.models.CreateDerivedTransactionPortfolioRequest(\n",
    "    display_name=f\"Derived Portfolio of {portfolio_code}\",\n",
    "    code=derived_portfolio_code,\n",
    "    parent_portfolio_id=lusid.models.ResourceId(scope=scope, code=portfolio_code),\n",
    "    description=\"What if we didn't sell DOGE?\",\n",
    "    created=created_date\n",
    ")\n",
    "\n",
    "response = derived_api.create_derived_portfolio(\n",
    "    scope=scope,\n",
    "    create_derived_transaction_portfolio_request=derived_request\n",
    ")"
   ]
  },
  {
   "cell_type": "markdown",
   "id": "66f9edab",
   "metadata": {},
   "source": [
    "Let's delete the transactions on 2nd February 2021, which have the transactions IDs `tx_00003` and `tx_00004`:"
   ]
  },
  {
   "cell_type": "code",
   "execution_count": null,
   "id": "2783bfa5",
   "metadata": {},
   "outputs": [],
   "source": [
    "response = transaction_portfolios_api.cancel_transactions(\n",
    "        scope=scope,\n",
    "        code=derived_portfolio_code,\n",
    "        transaction_ids=[\"tx_00003\", \"tx_00004\"]\n",
    ")"
   ]
  },
  {
   "cell_type": "markdown",
   "id": "d12e135b",
   "metadata": {},
   "source": [
    "And now we can run a valuation on our initial portfolio and the derived one to see the difference that those trades have made on our portfolio's valuation:"
   ]
  },
  {
   "cell_type": "code",
   "execution_count": 47,
   "id": "263d6c4f",
   "metadata": {},
   "outputs": [
    {
     "name": "stdout",
     "output_type": "stream",
     "text": [
      "Valuation for Developer-WhatIf-Tutorial-2021-05-06-11_01_58\n"
     ]
    },
    {
     "data": {
      "text/html": [
       "<div>\n",
       "<style scoped>\n",
       "    .dataframe tbody tr th:only-of-type {\n",
       "        vertical-align: middle;\n",
       "    }\n",
       "\n",
       "    .dataframe tbody tr th {\n",
       "        vertical-align: top;\n",
       "    }\n",
       "\n",
       "    .dataframe thead th {\n",
       "        text-align: right;\n",
       "    }\n",
       "</style>\n",
       "<table border=\"1\" class=\"dataframe\">\n",
       "  <thead>\n",
       "    <tr style=\"text-align: right;\">\n",
       "      <th></th>\n",
       "      <th>Analytic/default/ValuationDate</th>\n",
       "      <th>Sum(Holding/default/PV)</th>\n",
       "    </tr>\n",
       "  </thead>\n",
       "  <tbody>\n",
       "    <tr>\n",
       "      <th>0</th>\n",
       "      <td>2021-05-05T00:00:00.0000000+00:00</td>\n",
       "      <td>34046.883352</td>\n",
       "    </tr>\n",
       "  </tbody>\n",
       "</table>\n",
       "</div>"
      ],
      "text/plain": [
       "      Analytic/default/ValuationDate  Sum(Holding/default/PV)\n",
       "0  2021-05-05T00:00:00.0000000+00:00             34046.883352"
      ]
     },
     "metadata": {},
     "output_type": "display_data"
    },
    {
     "name": "stdout",
     "output_type": "stream",
     "text": [
      "\n",
      "Valuation per instrument for Developer-WhatIf-Tutorial-2021-05-06-11_01_58\n"
     ]
    },
    {
     "data": {
      "text/html": [
       "<div>\n",
       "<style scoped>\n",
       "    .dataframe tbody tr th:only-of-type {\n",
       "        vertical-align: middle;\n",
       "    }\n",
       "\n",
       "    .dataframe tbody tr th {\n",
       "        vertical-align: top;\n",
       "    }\n",
       "\n",
       "    .dataframe thead th {\n",
       "        text-align: right;\n",
       "    }\n",
       "</style>\n",
       "<table border=\"1\" class=\"dataframe\">\n",
       "  <thead>\n",
       "    <tr style=\"text-align: right;\">\n",
       "      <th></th>\n",
       "      <th>Instrument/default/Name</th>\n",
       "      <th>Holding/default/Cost</th>\n",
       "      <th>Sum(Holding/default/Units)</th>\n",
       "      <th>Sum(Holding/default/PV)</th>\n",
       "      <th>Proportion(Holding/default/PV)</th>\n",
       "    </tr>\n",
       "  </thead>\n",
       "  <tbody>\n",
       "    <tr>\n",
       "      <th>0</th>\n",
       "      <td>USD</td>\n",
       "      <td>561.15</td>\n",
       "      <td>561.150885</td>\n",
       "      <td>561.150885</td>\n",
       "      <td>0.016482</td>\n",
       "    </tr>\n",
       "    <tr>\n",
       "      <th>1</th>\n",
       "      <td>Dogecoin</td>\n",
       "      <td>270.24</td>\n",
       "      <td>50000.000000</td>\n",
       "      <td>27125.548335</td>\n",
       "      <td>0.796712</td>\n",
       "    </tr>\n",
       "    <tr>\n",
       "      <th>2</th>\n",
       "      <td>XRP</td>\n",
       "      <td>1472.33</td>\n",
       "      <td>4000.000000</td>\n",
       "      <td>6360.184131</td>\n",
       "      <td>0.186807</td>\n",
       "    </tr>\n",
       "  </tbody>\n",
       "</table>\n",
       "</div>"
      ],
      "text/plain": [
       "  Instrument/default/Name  Holding/default/Cost  Sum(Holding/default/Units)  \\\n",
       "0                     USD                561.15                  561.150885   \n",
       "1                Dogecoin                270.24                50000.000000   \n",
       "2                     XRP               1472.33                 4000.000000   \n",
       "\n",
       "   Sum(Holding/default/PV)  Proportion(Holding/default/PV)  \n",
       "0               561.150885                        0.016482  \n",
       "1             27125.548335                        0.796712  \n",
       "2              6360.184131                        0.186807  "
      ]
     },
     "metadata": {},
     "output_type": "display_data"
    },
    {
     "name": "stdout",
     "output_type": "stream",
     "text": [
      "\n",
      "Valuation for Developer-WhatIf-Tutorial-Derived-2021-05-06-11_01_58\n"
     ]
    },
    {
     "data": {
      "text/html": [
       "<div>\n",
       "<style scoped>\n",
       "    .dataframe tbody tr th:only-of-type {\n",
       "        vertical-align: middle;\n",
       "    }\n",
       "\n",
       "    .dataframe tbody tr th {\n",
       "        vertical-align: top;\n",
       "    }\n",
       "\n",
       "    .dataframe thead th {\n",
       "        text-align: right;\n",
       "    }\n",
       "</style>\n",
       "<table border=\"1\" class=\"dataframe\">\n",
       "  <thead>\n",
       "    <tr style=\"text-align: right;\">\n",
       "      <th></th>\n",
       "      <th>Analytic/default/ValuationDate</th>\n",
       "      <th>Sum(Holding/default/PV)</th>\n",
       "    </tr>\n",
       "  </thead>\n",
       "  <tbody>\n",
       "    <tr>\n",
       "      <th>0</th>\n",
       "      <td>2021-05-05T00:00:00.0000000+00:00</td>\n",
       "      <td>54710.61639</td>\n",
       "    </tr>\n",
       "  </tbody>\n",
       "</table>\n",
       "</div>"
      ],
      "text/plain": [
       "      Analytic/default/ValuationDate  Sum(Holding/default/PV)\n",
       "0  2021-05-05T00:00:00.0000000+00:00              54710.61639"
      ]
     },
     "metadata": {},
     "output_type": "display_data"
    },
    {
     "name": "stdout",
     "output_type": "stream",
     "text": [
      "\n",
      "Valuation per instrument for Developer-WhatIf-Tutorial-Derived-2021-05-06-11_01_58\n"
     ]
    },
    {
     "data": {
      "text/html": [
       "<div>\n",
       "<style scoped>\n",
       "    .dataframe tbody tr th:only-of-type {\n",
       "        vertical-align: middle;\n",
       "    }\n",
       "\n",
       "    .dataframe tbody tr th {\n",
       "        vertical-align: top;\n",
       "    }\n",
       "\n",
       "    .dataframe thead th {\n",
       "        text-align: right;\n",
       "    }\n",
       "</style>\n",
       "<table border=\"1\" class=\"dataframe\">\n",
       "  <thead>\n",
       "    <tr style=\"text-align: right;\">\n",
       "      <th></th>\n",
       "      <th>Instrument/default/Name</th>\n",
       "      <th>Holding/default/Cost</th>\n",
       "      <th>Sum(Holding/default/Units)</th>\n",
       "      <th>Sum(Holding/default/PV)</th>\n",
       "      <th>Proportion(Holding/default/PV)</th>\n",
       "    </tr>\n",
       "  </thead>\n",
       "  <tbody>\n",
       "    <tr>\n",
       "      <th>0</th>\n",
       "      <td>USD</td>\n",
       "      <td>459.52</td>\n",
       "      <td>459.51972</td>\n",
       "      <td>459.51972</td>\n",
       "      <td>0.008399</td>\n",
       "    </tr>\n",
       "    <tr>\n",
       "      <th>1</th>\n",
       "      <td>Dogecoin</td>\n",
       "      <td>540.48</td>\n",
       "      <td>100000.00000</td>\n",
       "      <td>54251.09667</td>\n",
       "      <td>0.991601</td>\n",
       "    </tr>\n",
       "  </tbody>\n",
       "</table>\n",
       "</div>"
      ],
      "text/plain": [
       "  Instrument/default/Name  Holding/default/Cost  Sum(Holding/default/Units)  \\\n",
       "0                     USD                459.52                   459.51972   \n",
       "1                Dogecoin                540.48                100000.00000   \n",
       "\n",
       "   Sum(Holding/default/PV)  Proportion(Holding/default/PV)  \n",
       "0                459.51972                        0.008399  \n",
       "1              54251.09667                        0.991601  "
      ]
     },
     "metadata": {},
     "output_type": "display_data"
    },
    {
     "name": "stdout",
     "output_type": "stream",
     "text": [
      "\n"
     ]
    }
   ],
   "source": [
    "for code in [portfolio_code, derived_portfolio_code]:\n",
    "    effective_at = datetime(year=2021, month=5, day=5, tzinfo=pytz.UTC)\n",
    "    response = compute_valuation_with_default_recipe(\n",
    "        code,\n",
    "        effective_at,\n",
    "        effective_at,\n",
    "        metrics=[\n",
    "            (\"Analytic/default/ValuationDate\", \"Value\"),\n",
    "            (\"Holding/default/PV\", \"Sum\"),\n",
    "        ],\n",
    "        group_by=[\"Analytic/default/ValuationDate\"]\n",
    "    )\n",
    "    valuation_all = pd.DataFrame(response)\n",
    "    print(f\"Valuation for {code}\")\n",
    "    display(valuation_all)\n",
    "    print(\"\")\n",
    "\n",
    "    response = compute_valuation_with_default_recipe(\n",
    "        code,\n",
    "        effective_at,\n",
    "        effective_at,\n",
    "        metrics=[\n",
    "            (\"Instrument/default/Name\", \"Value\"),\n",
    "            (\"Holding/default/Cost\", \"Value\"),\n",
    "            (\"Holding/default/Units\", \"Sum\"),\n",
    "            (\"Holding/default/PV\", \"Sum\"),\n",
    "            (\"Holding/default/PV\", \"Proportion\")\n",
    "        ],\n",
    "        group_by=[\"Instrument/default/Name\"]\n",
    "    )\n",
    "    valuation = pd.DataFrame(response)\n",
    "    print(f\"Valuation per instrument for {code}\")\n",
    "    display(valuation)\n",
    "    print(\"\")"
   ]
  }
 ],
 "metadata": {
  "kernelspec": {
   "display_name": "Python 3",
   "language": "python",
   "name": "python3"
  },
  "language_info": {
   "codemirror_mode": {
    "name": "ipython",
    "version": 3
   },
   "file_extension": ".py",
   "mimetype": "text/x-python",
   "name": "python",
   "nbconvert_exporter": "python",
   "pygments_lexer": "ipython3",
   "version": "3.7.3"
  }
 },
 "nbformat": 4,
 "nbformat_minor": 5
}
